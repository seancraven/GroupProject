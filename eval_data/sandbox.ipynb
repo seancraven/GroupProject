{
 "cells": [
  {
   "cell_type": "code",
   "execution_count": 4,
   "metadata": {},
   "outputs": [],
   "source": [
    "import numpy as np"
   ]
  },
  {
   "cell_type": "code",
   "execution_count": 5,
   "metadata": {},
   "outputs": [],
   "source": [
    "dmt_losses = np.load('dmt_loss.npy')\n",
    "plabel_losses = np.load('plabel_loss.npy')\n",
    "baseline_losses = np.load('baseline_loss.npy')"
   ]
  },
  {
   "cell_type": "code",
   "execution_count": 6,
   "metadata": {},
   "outputs": [
    {
     "data": {
      "text/plain": [
       "(array([0.62268513, 0.66644037, 0.77886093, 0.81881487, 0.87945276,\n",
       "        0.88411725, 0.87821257]),\n",
       " array([0.62777567, 0.6780839 , 0.75154734, 0.81312442, 0.87581766,\n",
       "        0.88615638, 0.88993001]))"
      ]
     },
     "execution_count": 6,
     "metadata": {},
     "output_type": "execute_result"
    }
   ],
   "source": [
    "dmt_losses, plabel_losses"
   ]
  },
  {
   "cell_type": "code",
   "execution_count": 12,
   "metadata": {},
   "outputs": [
    {
     "data": {
      "text/plain": [
       "array([0.58134027, 0.64341052, 0.75509907, 0.79863341, 0.87233567,\n",
       "       0.88466622, 0.88779955])"
      ]
     },
     "execution_count": 12,
     "metadata": {},
     "output_type": "execute_result"
    }
   ],
   "source": [
    "baseline_losses.reshape(7,5).mean(1)"
   ]
  },
  {
   "cell_type": "code",
   "execution_count": 13,
   "metadata": {},
   "outputs": [],
   "source": [
    "baselines = baseline_losses.reshape(7,5)"
   ]
  },
  {
   "cell_type": "code",
   "execution_count": 14,
   "metadata": {},
   "outputs": [],
   "source": [
    "baselines_mean, baselines_std = baselines.mean(1), baselines.std(1)"
   ]
  },
  {
   "cell_type": "code",
   "execution_count": 16,
   "metadata": {},
   "outputs": [
    {
     "data": {
      "text/plain": [
       "(array([0.58134027, 0.64341052, 0.75509907, 0.79863341, 0.87233567,\n",
       "        0.88466622, 0.88779955]),\n",
       " array([0.00943668, 0.02304353, 0.0053193 , 0.00537976, 0.00143342,\n",
       "        0.00199367, 0.00253086]))"
      ]
     },
     "execution_count": 16,
     "metadata": {},
     "output_type": "execute_result"
    }
   ],
   "source": [
    "baselines_mean, baselines_std"
   ]
  },
  {
   "cell_type": "code",
   "execution_count": 17,
   "metadata": {},
   "outputs": [],
   "source": [
    "label_props =  [0.01, 0.02, 0.05, 0.1, 0.5, 0.8, 1.0]\n"
   ]
  },
  {
   "cell_type": "code",
   "execution_count": 19,
   "metadata": {},
   "outputs": [],
   "source": [
    "from collections import defaultdict"
   ]
  },
  {
   "cell_type": "code",
   "execution_count": null,
   "metadata": {},
   "outputs": [],
   "source": [
    "results_dict = defaultdict(label_props, [baselines_mean, ])"
   ]
  }
 ],
 "metadata": {
  "kernelspec": {
   "display_name": "RL3",
   "language": "python",
   "name": "python3"
  },
  "language_info": {
   "codemirror_mode": {
    "name": "ipython",
    "version": 3
   },
   "file_extension": ".py",
   "mimetype": "text/x-python",
   "name": "python",
   "nbconvert_exporter": "python",
   "pygments_lexer": "ipython3",
   "version": "3.10.9"
  },
  "orig_nbformat": 4
 },
 "nbformat": 4,
 "nbformat_minor": 2
}
